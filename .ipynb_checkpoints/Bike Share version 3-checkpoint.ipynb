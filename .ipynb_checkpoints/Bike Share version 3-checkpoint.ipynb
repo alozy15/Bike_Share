{
 "cells": [
  {
   "cell_type": "code",
   "execution_count": 1,
   "metadata": {},
   "outputs": [],
   "source": [
    "import time\n",
    "import pandas as pd\n",
    "import numpy as np\n",
    "\n",
    "# loading files\n",
    "CITY_DATA = {'chicago':'chicago.csv',\n",
    "            'new york city':'new_york_city.csv',\n",
    "            'washington':'washington.csv'}\n",
    "\n",
    "def city_input():\n",
    "    \n",
    "   \n",
    "    print('Hello! I see you\\'re interested in exploring bike share data.')\n",
    "    print('\\n')\n",
    "        \n",
    "    city = input('Would you like to see data for Washington, Chicago or New York?: ')\n",
    "    \n",
    "    \n",
    "    while True:     \n",
    "            if city == 'chicago':\n",
    "                print('The Windy City, deep dish time!')\n",
    "                print('Let\\'s check out Chicago\\'s bike share characteristics.')\n",
    "                print('Give it a sec...after all, patience is a virtue.')\n",
    "                return 'chicago'\n",
    "            \n",
    "            if city.lower() == 'new york':\n",
    "                print('The Big Apple!, That\\'s a great choice.')\n",
    "                print('Let\\'s check out New York\\'s bike share characteristics.')\n",
    "                print('Give it a sec...after all, patience is a virtue.')\n",
    "                return 'new york city'\n",
    "            \n",
    "            if city.lower() == 'new york city':\n",
    "                print('The Big Apple!, That\\'s a great choice.')\n",
    "                print('Let\\'s check out New York\\'s bike share characteristics.')\n",
    "                print('Give it a sec...after all, patience is a virtue.')\n",
    "                return 'new york city'\n",
    "            \n",
    "            elif city.lower() == 'washington':\n",
    "                print('The Capital, another great choice!')\n",
    "                print('Let\\'s check out Washington\\'s bike share characteristics.')\n",
    "                print('Give it a sec...after all, patience is a virtue.')\n",
    "                return 'washington'\n",
    "           \n",
    "            else:\n",
    "                print('I\\'ve always wanted to visit, but I apologize, I don\\'t have data for that city.')\n",
    "                city= input('please choose between Washington, Chicago or New York City.')\n",
    "                \n",
    "                \n",
    "    return city\n"
   ]
  },
  {
   "cell_type": "code",
   "execution_count": 2,
   "metadata": {},
   "outputs": [],
   "source": [
    "def get_time():\n",
    "    \n",
    "    period = input('\\n Would you like bike share characteristics broken down by month including day of the month, day of the week, or no filter at all? \\n PLEASE ENTER MONTH, DAY, or NO:')\n",
    "    \n",
    "\n",
    "    while True: \n",
    "        \n",
    "        if period.lower() == 'month':\n",
    "            while True:\n",
    "                day_month = input('\\n Do you want the bike share data broken down by day of the month as well?:').lower()\n",
    "                if day_month == 'no':\n",
    "                    print('\\n Let\\'s check out the monthly data,\\n, give it a sec...')\n",
    "                    return 'month'\n",
    "                \n",
    "                if day_month.lower() == 'yes':\n",
    "                    print ('\\n Let\\'s check out the monthly data broken down by day of the month, within a month \\n')\n",
    "                    print('give it a sec...')                      \n",
    "                    return 'day_of_month'\n",
    "                \n",
    "        if period.lower() == 'day':\n",
    "            print('\\n Bike share data is being broken down by day of the week \\n')\n",
    "            print('give it a sec...')\n",
    "            return 'day_of_week'\n",
    "                                          \n",
    "        if period.lower() == 'no':\n",
    "            print('\\n Your selected bike share data has no filter applied')\n",
    "            return \"none\"\n",
    "                                          \n",
    "        period = input('\\n Would you like bike share characteristics broken down by month, day of the month, day of the week, or no filter at all? Please enter month, day, or no:\\n')"
   ]
  },
  {
   "cell_type": "markdown",
   "metadata": {},
   "source": [
    "\n",
    "    "
   ]
  },
  {
   "cell_type": "code",
   "execution_count": 3,
   "metadata": {},
   "outputs": [],
   "source": [
    "def month_info(mth):      \n",
    "    if mth == 'month':\n",
    "        month = input('\\n Which month would you like to see data for: January, February, March, April, May, or June? \\n')\n",
    "        while month.lower() not in ['january',  'february',  'march',  'april',  'may', 'june']:\n",
    "            month = input('\\n I apologize, but I only have data for: January, February, March, April, May, and June? \\n please pick any one of those months.')\n",
    "        return month.lower()\n",
    "    else:\n",
    "        return 'none'"
   ]
  },
  {
   "cell_type": "code",
   "execution_count": 4,
   "metadata": {},
   "outputs": [],
   "source": [
    "def month_day_info(df, day_mth):    \n",
    "    \n",
    "    month_day = []\n",
    "    \n",
    "    if day_mth == \"day_of_month\":\n",
    "        month = month_info(\"month\")\n",
    "        month_day.append(month)\n",
    "        maximum_day_month = max_day_month(df, month)\n",
    "\n",
    "        while (True):\n",
    "            print('\\n PLEASE NOTE SUNDAY = 1 AND SATURDAY = 7')\n",
    "            ask = ' \\n Which day of the month? \\n Please type your response as an integer between 1 and 7:'                 \n",
    "            ask  = ask + str(maximum_day_month) \n",
    "            day_mth = input(ask)\n",
    "\n",
    "            try: \n",
    "                day_mth = int(day_mth)\n",
    "                if 1 <= day_mth <= maximum_day_month:\n",
    "                    month_day.append(day_mth)\n",
    "                    return month_day\n",
    "            except ValueError:\n",
    "                print(\"Sorry,but that\\'s not a numeric value\")\n",
    "    else:\n",
    "        return 'none'\n"
   ]
  },
  {
   "cell_type": "code",
   "execution_count": 5,
   "metadata": {},
   "outputs": [],
   "source": [
    "def day_info(d):   \n",
    "    \n",
    "    if d == 'day_of_week':\n",
    "        day = input('\\n Which day do you want data broken down for?\\n Please type- M, Tu, W, Th, F, Sa, Su: \\n')\n",
    "        while day.lower() not in ['m', 'tu', 'w', 'th', 'f', 'sa', 'su']:\n",
    "            day = input('\\n I apologize, please select a choice from either,\\n M, Tu, W, Th, F, Sa, Su:\\n')\n",
    "        return day.lower()\n",
    "    \n",
    "    else:\n",
    "        return 'none'\n"
   ]
  },
  {
   "cell_type": "code",
   "execution_count": 6,
   "metadata": {},
   "outputs": [],
   "source": [
    "def load_data(city):\n",
    "    \n",
    "    print('\\n Working on getting the selected bike data \\n')\n",
    "    print('It shouldn\\'t be too long \\n')\n",
    "    \n",
    "    df = pd.read_csv(CITY_DATA[city])\n",
    "\n",
    "  \n",
    "    df['Start Time'] = pd.to_datetime(df['Start Time'])\n",
    "    df['day_of_week'] = df['Start Time'].dt.weekday_name\n",
    "    df['month'] = df['Start Time'].dt.month\n",
    "    df[\"day_of_month\"] = df[\"Start Time\"].dt.day\n",
    "    return df\n"
   ]
  },
  {
   "cell_type": "code",
   "execution_count": 7,
   "metadata": {},
   "outputs": [],
   "source": [
    "def time_filters(df, time, month, week_day, md):\n",
    "    \n",
    "    \n",
    "    print('Working on getting your selected bike share characteristics. \\n')\n",
    "    print('It should\\'t be too long \\n')\n",
    "   \n",
    "    if time == 'month':\n",
    "        months = ['january', 'february', 'march',  'april',  'may', 'june']\n",
    "        month = months.index(month) + 1\n",
    "        df = df[df['month'] == month]\n",
    "\n",
    "    \n",
    "    if time == 'day_of_week':\n",
    "        days = ['Monday', 'Tuesday', \n",
    "        'Wednesday', 'Thursday', \n",
    "        'Friday', 'Saturday', 'Sunday']\n",
    "        for d in days:\n",
    "            if week_day.capitalize() in d:\n",
    "                day_of_week = d\n",
    "        df = df[df['day_of_week'] == day_of_week]\n",
    "\n",
    "    if time == \"day_of_month\":\n",
    "        months = ['january',  'february',  'march',  'april',  'may', 'june']\n",
    "        month = md[0]\n",
    "        month = months.index(month) + 1\n",
    "        df = df[df['month']==month]\n",
    "        day = md[1]\n",
    "        df = df[df['day_of_month'] == day]\n",
    "\n",
    "    return df\n",
    "\n"
   ]
  },
  {
   "cell_type": "code",
   "execution_count": 8,
   "metadata": {},
   "outputs": [],
   "source": [
    "def max_day_month(df, month):\n",
    "   #will return the max day of the month '''\n",
    "\n",
    "    months = {'january': 1, 'february': 2, 'march': 3, 'april':4, 'may': 5, 'june':6}\n",
    "    df = df[df[\"month\"] == months[month]]\n",
    "    max_day = max(df[\"day_of_month\"])\n",
    "    return max_day"
   ]
  },
  {
   "cell_type": "code",
   "execution_count": 9,
   "metadata": {},
   "outputs": [],
   "source": [
    "def month_frequency(df):\n",
    "    # pop month\n",
    "    \n",
    "    print('\\n Question #1a:')\n",
    "    print('The most popular month for bike users.')\n",
    "    m = df.month.mode()[0]\n",
    "    months = ['january', 'february', 'march', 'april', 'may', 'june']\n",
    "    popular_month = months[m - 1].capitalize()\n",
    "    return popular_month\n"
   ]
  },
  {
   "cell_type": "code",
   "execution_count": 10,
   "metadata": {},
   "outputs": [],
   "source": [
    "def day_frequency(df):\n",
    "    \n",
    "    print('\\n Question #1b:')\n",
    "    print('The most popular day of the week for bike users is.')\n",
    "    return df['day_of_week'].value_counts().reset_index()['index'][0]"
   ]
  },
  {
   "cell_type": "code",
   "execution_count": 11,
   "metadata": {},
   "outputs": [],
   "source": [
    "def hour_frequency(df):\n",
    "    \n",
    "    print('\\n Question #1c')\n",
    "    print('The most popular user hour for riding is?')\n",
    "    df['hour'] = df['Start Time'].dt.hour\n",
    "    return df.hour.mode()[0]"
   ]
  },
  {
   "cell_type": "code",
   "execution_count": 12,
   "metadata": {},
   "outputs": [],
   "source": [
    "def stations_frequency(df):\n",
    "    \n",
    "    print('\\n Question # 2a')\n",
    "    print('The most common start station is.')    \n",
    "    start_station = df['Start Station'].value_counts().reset_index()['index'][0]\n",
    "    print (start_station)\n",
    "    \n",
    "    print('\\n Question # 2b')\n",
    "    print('The most common end station is')\n",
    "    end_station = df['End Station'].value_counts().reset_index()['index'][0]\n",
    "    print(end_station)\n",
    "    \n",
    "    return start_station, end_station\n",
    "\n",
    "    "
   ]
  },
  {
   "cell_type": "code",
   "execution_count": 13,
   "metadata": {},
   "outputs": [],
   "source": [
    "def common_trip(df):\n",
    "       \n",
    "    print('\\n Question #2c')\n",
    "    print('\\n The most commonly traveled route combination by riders is')\n",
    "    common = df[['Start Station', 'End Station']].groupby(['Start Station', 'End Station']).size().nlargest(1)\n",
    "    \n",
    "    return common"
   ]
  },
  {
   "cell_type": "markdown",
   "metadata": {},
   "source": [
    "\n",
    "\n",
    "    \n",
    "\n"
   ]
  },
  {
   "cell_type": "code",
   "execution_count": 14,
   "metadata": {},
   "outputs": [],
   "source": [
    "def ride_duration(df):\n",
    "    \n",
    "    print('\\n Question #3a & #3b')\n",
    "    print('The total days of use for riders, and the average trip duration per user.')\n",
    "    \n",
    "    df['End Time'] = pd.to_datetime(df['End Time'])\n",
    "    df['Travel Time'] = df['End Time'] - df['Start Time']\n",
    "    \n",
    "    total_ride_time = np.sum(df['Travel Time'])\n",
    "    total_days = str(total_ride_time).split()[0]\n",
    "\n",
    "    print ('\\n Riders amounted', total_days, ' days of total use. \\n')\n",
    "    \n",
    "    mean_ride_time = np.mean(df['Travel Time'])\n",
    "    mean_time = str(mean_ride_time).split()[0]\n",
    "    \n",
    "    print('Riders on average use bike services about', mean_time, 'days. \\n')\n",
    "\n",
    "    return total_ride_time, mean_time\n"
   ]
  },
  {
   "cell_type": "code",
   "execution_count": 15,
   "metadata": {},
   "outputs": [],
   "source": [
    "#def common_trip(df):\n",
    " \n",
    "    # df - dataframe returned from time_filters\n",
    "    #result = df[['Start Station', 'End Station']].groupby(['Start Station', 'End Station']).size().nlargest(1)\n",
    "    #print('\\n* Q7. What was the most popular trip from start to end?')\n",
    "    #return result"
   ]
  },
  {
   "cell_type": "code",
   "execution_count": 16,
   "metadata": {},
   "outputs": [],
   "source": [
    "def bike_users(df):\n",
    "    \n",
    "    print('\\n Question #4a')\n",
    "    print('\\n The breakdown of user type per city is as follows: \\n')\n",
    "    return df['User Type'].value_counts()"
   ]
  },
  {
   "cell_type": "code",
   "execution_count": 17,
   "metadata": {},
   "outputs": [],
   "source": [
    "def gender_data(df):\n",
    "   \n",
    "    try:\n",
    "        print('\\n Question #4b')\n",
    "        print('\\n  The gender demographics for riders in this city are: \\n')\n",
    "        return df['Gender'].value_counts()\n",
    "    \n",
    "    except:\n",
    "        print('Please note that Washington does not have Gender specific info.')\n",
    "        print('There is no gender data in the source.')"
   ]
  },
  {
   "cell_type": "code",
   "execution_count": 18,
   "metadata": {},
   "outputs": [],
   "source": [
    "def birth_years(df):\n",
    "    \n",
    "    try:\n",
    "        print('\\n Question #4c')\n",
    "        print('\\n Birthday characteristics for users in this city are as follows: \\n')\n",
    "        earliest = np.min(df['Birth Year'])\n",
    "        print ('\\nThe earliest year of birth and therefore the oldest rider is', str(earliest), '\\n')\n",
    "        latest = np.max(df['Birth Year'])\n",
    "        print ('The latest year of birth and therefore the youngest rider is', str(latest), '\\n')\n",
    "        most_common_bday= df['Birth Year'].mode()[0]\n",
    "        print ('The most frequent year of birth year of riders is', str(most_common_bday), '\\n')\n",
    "        return earliest, latest, most_common_bday\n",
    "    \n",
    "    except:\n",
    "        print('No available birth date data for this period.')\n"
   ]
  },
  {
   "cell_type": "code",
   "execution_count": 19,
   "metadata": {},
   "outputs": [],
   "source": [
    "def process(f, df):\n",
    "    '''Calculates the time it takes to commpute a statistic\n",
    "    '''\n",
    "    start_time = time.time()\n",
    "    statToCompute = f(df)\n",
    "    print(statToCompute)\n",
    "    print(\"This stat took %s seconds.\" % (time.time() - start_time),'to retrieve')\n"
   ]
  },
  {
   "cell_type": "code",
   "execution_count": 20,
   "metadata": {},
   "outputs": [],
   "source": [
    "def raw_data(df):\n",
    "   \n",
    "    row_index = 0\n",
    "\n",
    "    see_data = input('\\n Would you like to see five rows of the data used to compute the stats? Please write yes or no:\\n')\n",
    "    \n",
    "    while True:\n",
    "        if see_data.lower() == 'no':\n",
    "            return\n",
    "        if see_data.lower() == 'yes':\n",
    "            print(df[row_index: row_index + 5])\n",
    "            row_index = row_index + 5\n",
    "            \n",
    "        see_data = input('\\n Would you like to see five more rows of the data used to compute the stats?\\n  Please write yes or no: \\n')"
   ]
  },
  {
   "cell_type": "code",
   "execution_count": 21,
   "metadata": {},
   "outputs": [],
   "source": [
    "def main():\n",
    "   \n",
    "    \n",
    "     #calling all the functions step by step\n",
    "    city = city_input()\n",
    "    df = load_data(city)\n",
    "    period = get_time()\n",
    "    month = month_info(period)\n",
    "    day = day_info(period)\n",
    "    month_day = month_day_info(df, period)\n",
    "\n",
    "    df = time_filters(df, period, month, day, month_day)\n",
    "    raw_data(df)\n",
    "    \n",
    "\n",
    "    stats_list = [month_frequency,\n",
    "     day_frequency, hour_frequency, \n",
    "     ride_duration, common_trip, \n",
    "     stations_frequency, bike_users, birth_years, gender_data]\n",
    "\n",
    "    for stat in stats_list:\n",
    "        process(stat, df)\n",
    "\n",
    "    \n",
    "    restart = input(\"\\n * Would you like to do it again and perform another analysis? Type \\'yes\\' or \\'no\\'.\\n\")\n",
    "    if restart.lower() == 'yes' or restart.lower() == 'y':\n",
    "        main()\n",
    "        \n",
    "    if restart.lower() == 'no':\n",
    "        print('Adios Amigo \\n Thanks for stopping by.')\n",
    "        \n",
    "    exit()\n",
    "\n"
   ]
  },
  {
   "cell_type": "code",
   "execution_count": null,
   "metadata": {},
   "outputs": [],
   "source": []
  },
  {
   "cell_type": "code",
   "execution_count": null,
   "metadata": {},
   "outputs": [],
   "source": []
  }
 ],
 "metadata": {
  "kernelspec": {
   "display_name": "Python 3",
   "language": "python",
   "name": "python3"
  },
  "language_info": {
   "codemirror_mode": {
    "name": "ipython",
    "version": 3
   },
   "file_extension": ".py",
   "mimetype": "text/x-python",
   "name": "python",
   "nbconvert_exporter": "python",
   "pygments_lexer": "ipython3",
   "version": "3.7.0"
  }
 },
 "nbformat": 4,
 "nbformat_minor": 2
}
